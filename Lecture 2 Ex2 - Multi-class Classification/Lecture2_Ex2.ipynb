{
 "cells": [
  {
   "cell_type": "code",
   "execution_count": 1,
   "metadata": {},
   "outputs": [],
   "source": [
    "import matplotlib.pyplot as plt\n",
    "import numpy as np\n",
    "from sklearn.model_selection import train_test_split\n",
    "from sklearn.datasets import load_iris\n",
    "from sklearn.metrics import accuracy_score\n",
    "import tensorflow as tf\n",
    "from tensorflow.keras.models import Sequential\n",
    "from tensorflow.keras.layers import Dense\n",
    "from tensorflow.keras.optimizers import Adam\n",
    "from tensorflow.keras.utils import to_categorical\n",
    "%matplotlib inline\n",
    "# always set random seeds to ensure reproducible results!\n",
    "np.random.seed(399)\n",
    "tf.random.set_seed(399)"
   ]
  },
  {
   "cell_type": "markdown",
   "metadata": {},
   "source": [
    "Load the iris data and one-hot encode the target"
   ]
  },
  {
   "cell_type": "code",
   "execution_count": 2,
   "metadata": {},
   "outputs": [],
   "source": [
    "iris_data = load_iris()\n",
    "X = iris_data.data\n",
    "y = iris_data.target\n",
    "Y = to_categorical(y) # one-hot encode target labels"
   ]
  },
  {
   "cell_type": "markdown",
   "metadata": {},
   "source": [
    "In the previous exercise we were just given weights. But that is never the case in the real world! Here we have to learn the weights. And so this time we will create a random validation data set to make sure we aren't overfitting. We stratify on `y` to ensure train and val have proportional representation of each iris class."
   ]
  },
  {
   "cell_type": "code",
   "execution_count": 3,
   "metadata": {},
   "outputs": [],
   "source": [
    "X_train, X_val, Y_train, Y_val = train_test_split(X, Y, \n",
    "                                                  test_size=.2,\n",
    "                                                  stratify=y,\n",
    "                                                  random_state=399)"
   ]
  },
  {
   "cell_type": "markdown",
   "metadata": {},
   "source": [
    "There is more we could do to preprocess our data (e.g., standardizing) but we will skip this step for the sake of time. And review it in the next lab."
   ]
  },
  {
   "cell_type": "markdown",
   "metadata": {},
   "source": [
    "Now instantiate and build a model with the same architecture as before (see slide image to the left).\n",
    "* 3 nodes in the hidden layer with relu activation\n",
    "* 3 output nodes (1 for each class) with softmax activation\n",
    "\n",
    "Remember: Keras handles all the work of adding ones and biases for you!"
   ]
  },
  {
   "cell_type": "code",
   "execution_count": 5,
   "metadata": {
    "scrolled": true
   },
   "outputs": [],
   "source": [
    "# your code here\n",
    "model = Sequential()\n",
    "model.add(Dense(3, input_shape=(4,), activation='relu'))\n",
    "model.add(Dense(3, activation='softmax'))"
   ]
  },
  {
   "cell_type": "markdown",
   "metadata": {},
   "source": [
    "Use these compile parameters. Notice 'categorical_crossentropy' is the loss for multi-class classification. This model trains better with the slighly higher learning rate set here (more on learning rates next week). Then view make sure you understand where each parameter is coming from. "
   ]
  },
  {
   "cell_type": "code",
   "execution_count": 6,
   "metadata": {},
   "outputs": [
    {
     "name": "stdout",
     "output_type": "stream",
     "text": [
      "Model: \"sequential_1\"\n",
      "_________________________________________________________________\n",
      "Layer (type)                 Output Shape              Param #   \n",
      "=================================================================\n",
      "dense (Dense)                (None, 3)                 15        \n",
      "_________________________________________________________________\n",
      "dense_1 (Dense)              (None, 3)                 12        \n",
      "=================================================================\n",
      "Total params: 27\n",
      "Trainable params: 27\n",
      "Non-trainable params: 0\n",
      "_________________________________________________________________\n"
     ]
    }
   ],
   "source": [
    "model.compile(optimizer=Adam(learning_rate=0.01),\n",
    "              loss='categorical_crossentropy', metrics=['accuracy'])\n",
    "model.summary()"
   ]
  },
  {
   "cell_type": "code",
   "execution_count": 7,
   "metadata": {},
   "outputs": [
    {
     "name": "stdout",
     "output_type": "stream",
     "text": [
      "Epoch 1/100\n",
      "4/4 [==============================] - 0s 34ms/step - loss: 4.1142 - accuracy: 0.3333 - val_loss: 3.6311 - val_accuracy: 0.3333\n",
      "Epoch 2/100\n",
      "4/4 [==============================] - 0s 7ms/step - loss: 3.5743 - accuracy: 0.3333 - val_loss: 3.1660 - val_accuracy: 0.3333\n",
      "Epoch 3/100\n",
      "4/4 [==============================] - 0s 4ms/step - loss: 3.1317 - accuracy: 0.3083 - val_loss: 2.7688 - val_accuracy: 0.0333\n",
      "Epoch 4/100\n",
      "4/4 [==============================] - 0s 4ms/step - loss: 2.7255 - accuracy: 0.2167 - val_loss: 2.4093 - val_accuracy: 0.3333\n",
      "Epoch 5/100\n",
      "4/4 [==============================] - 0s 4ms/step - loss: 2.3726 - accuracy: 0.3333 - val_loss: 2.0837 - val_accuracy: 0.3333\n",
      "Epoch 6/100\n",
      "4/4 [==============================] - 0s 4ms/step - loss: 2.0581 - accuracy: 0.3333 - val_loss: 1.8026 - val_accuracy: 0.3333\n",
      "Epoch 7/100\n",
      "4/4 [==============================] - 0s 4ms/step - loss: 1.7756 - accuracy: 0.3333 - val_loss: 1.5769 - val_accuracy: 0.3333\n",
      "Epoch 8/100\n",
      "4/4 [==============================] - 0s 5ms/step - loss: 1.5798 - accuracy: 0.3333 - val_loss: 1.4004 - val_accuracy: 0.3333\n",
      "Epoch 9/100\n",
      "4/4 [==============================] - 0s 4ms/step - loss: 1.3976 - accuracy: 0.3333 - val_loss: 1.2813 - val_accuracy: 0.3333\n",
      "Epoch 10/100\n",
      "4/4 [==============================] - 0s 4ms/step - loss: 1.2981 - accuracy: 0.3333 - val_loss: 1.2048 - val_accuracy: 0.3333\n",
      "Epoch 11/100\n",
      "4/4 [==============================] - 0s 4ms/step - loss: 1.2152 - accuracy: 0.3333 - val_loss: 1.1639 - val_accuracy: 0.3333\n",
      "Epoch 12/100\n",
      "4/4 [==============================] - 0s 4ms/step - loss: 1.1810 - accuracy: 0.3333 - val_loss: 1.1429 - val_accuracy: 0.3333\n",
      "Epoch 13/100\n",
      "4/4 [==============================] - 0s 4ms/step - loss: 1.1599 - accuracy: 0.2750 - val_loss: 1.1334 - val_accuracy: 0.3667\n",
      "Epoch 14/100\n",
      "4/4 [==============================] - 0s 4ms/step - loss: 1.1548 - accuracy: 0.2417 - val_loss: 1.1290 - val_accuracy: 0.3333\n",
      "Epoch 15/100\n",
      "4/4 [==============================] - 0s 4ms/step - loss: 1.1476 - accuracy: 0.2750 - val_loss: 1.1256 - val_accuracy: 0.3333\n",
      "Epoch 16/100\n",
      "4/4 [==============================] - 0s 4ms/step - loss: 1.1431 - accuracy: 0.3250 - val_loss: 1.1215 - val_accuracy: 0.3333\n",
      "Epoch 17/100\n",
      "4/4 [==============================] - 0s 4ms/step - loss: 1.1390 - accuracy: 0.3333 - val_loss: 1.1169 - val_accuracy: 0.3333\n",
      "Epoch 18/100\n",
      "4/4 [==============================] - 0s 5ms/step - loss: 1.1337 - accuracy: 0.3333 - val_loss: 1.1113 - val_accuracy: 0.3333\n",
      "Epoch 19/100\n",
      "4/4 [==============================] - 0s 4ms/step - loss: 1.1279 - accuracy: 0.3333 - val_loss: 1.1055 - val_accuracy: 0.3333\n",
      "Epoch 20/100\n",
      "4/4 [==============================] - 0s 4ms/step - loss: 1.1225 - accuracy: 0.3333 - val_loss: 1.0991 - val_accuracy: 0.3333\n",
      "Epoch 21/100\n",
      "4/4 [==============================] - 0s 4ms/step - loss: 1.1166 - accuracy: 0.3333 - val_loss: 1.0930 - val_accuracy: 0.3333\n",
      "Epoch 22/100\n",
      "4/4 [==============================] - 0s 4ms/step - loss: 1.1109 - accuracy: 0.3333 - val_loss: 1.0872 - val_accuracy: 0.3333\n",
      "Epoch 23/100\n",
      "4/4 [==============================] - 0s 4ms/step - loss: 1.1055 - accuracy: 0.3167 - val_loss: 1.0818 - val_accuracy: 0.3333\n",
      "Epoch 24/100\n",
      "4/4 [==============================] - 0s 4ms/step - loss: 1.1008 - accuracy: 0.3000 - val_loss: 1.0767 - val_accuracy: 0.3333\n",
      "Epoch 25/100\n",
      "4/4 [==============================] - 0s 4ms/step - loss: 1.0958 - accuracy: 0.3000 - val_loss: 1.0716 - val_accuracy: 0.3333\n",
      "Epoch 26/100\n",
      "4/4 [==============================] - 0s 4ms/step - loss: 1.0914 - accuracy: 0.3000 - val_loss: 1.0667 - val_accuracy: 0.3333\n",
      "Epoch 27/100\n",
      "4/4 [==============================] - 0s 5ms/step - loss: 1.0863 - accuracy: 0.3000 - val_loss: 1.0617 - val_accuracy: 0.3333\n",
      "Epoch 28/100\n",
      "4/4 [==============================] - 0s 4ms/step - loss: 1.0816 - accuracy: 0.3083 - val_loss: 1.0569 - val_accuracy: 0.3333\n",
      "Epoch 29/100\n",
      "4/4 [==============================] - 0s 4ms/step - loss: 1.0766 - accuracy: 0.3167 - val_loss: 1.0523 - val_accuracy: 0.3333\n",
      "Epoch 30/100\n",
      "4/4 [==============================] - 0s 4ms/step - loss: 1.0716 - accuracy: 0.3250 - val_loss: 1.0478 - val_accuracy: 0.3333\n",
      "Epoch 31/100\n",
      "4/4 [==============================] - 0s 4ms/step - loss: 1.0670 - accuracy: 0.3333 - val_loss: 1.0435 - val_accuracy: 0.3333\n",
      "Epoch 32/100\n",
      "4/4 [==============================] - 0s 4ms/step - loss: 1.0614 - accuracy: 0.3333 - val_loss: 1.0391 - val_accuracy: 0.3333\n",
      "Epoch 33/100\n",
      "4/4 [==============================] - 0s 4ms/step - loss: 1.0576 - accuracy: 0.3333 - val_loss: 1.0354 - val_accuracy: 0.3333\n",
      "Epoch 34/100\n",
      "4/4 [==============================] - 0s 4ms/step - loss: 1.0524 - accuracy: 0.3333 - val_loss: 1.0307 - val_accuracy: 0.3333\n",
      "Epoch 35/100\n",
      "4/4 [==============================] - 0s 4ms/step - loss: 1.0481 - accuracy: 0.3500 - val_loss: 1.0253 - val_accuracy: 0.4000\n",
      "Epoch 36/100\n",
      "4/4 [==============================] - 0s 4ms/step - loss: 1.0429 - accuracy: 0.3417 - val_loss: 1.0208 - val_accuracy: 0.4000\n",
      "Epoch 37/100\n",
      "4/4 [==============================] - 0s 5ms/step - loss: 1.0382 - accuracy: 0.4083 - val_loss: 1.0160 - val_accuracy: 0.6333\n",
      "Epoch 38/100\n",
      "4/4 [==============================] - 0s 4ms/step - loss: 1.0335 - accuracy: 0.6583 - val_loss: 1.0110 - val_accuracy: 0.7333\n",
      "Epoch 39/100\n",
      "4/4 [==============================] - 0s 4ms/step - loss: 1.0281 - accuracy: 0.7333 - val_loss: 1.0060 - val_accuracy: 0.7667\n",
      "Epoch 40/100\n",
      "4/4 [==============================] - 0s 4ms/step - loss: 1.0232 - accuracy: 0.7167 - val_loss: 1.0006 - val_accuracy: 0.7000\n",
      "Epoch 41/100\n",
      "4/4 [==============================] - 0s 4ms/step - loss: 1.0176 - accuracy: 0.6583 - val_loss: 0.9950 - val_accuracy: 0.6667\n",
      "Epoch 42/100\n",
      "4/4 [==============================] - 0s 4ms/step - loss: 1.0128 - accuracy: 0.6500 - val_loss: 0.9888 - val_accuracy: 0.6667\n",
      "Epoch 43/100\n",
      "4/4 [==============================] - 0s 4ms/step - loss: 1.0065 - accuracy: 0.6500 - val_loss: 0.9832 - val_accuracy: 0.6667\n",
      "Epoch 44/100\n",
      "4/4 [==============================] - 0s 4ms/step - loss: 1.0000 - accuracy: 0.6500 - val_loss: 0.9765 - val_accuracy: 0.6667\n",
      "Epoch 45/100\n",
      "4/4 [==============================] - 0s 4ms/step - loss: 0.9939 - accuracy: 0.6500 - val_loss: 0.9696 - val_accuracy: 0.6667\n",
      "Epoch 46/100\n",
      "4/4 [==============================] - 0s 5ms/step - loss: 0.9885 - accuracy: 0.6500 - val_loss: 0.9634 - val_accuracy: 0.6667\n",
      "Epoch 47/100\n",
      "4/4 [==============================] - 0s 4ms/step - loss: 0.9794 - accuracy: 0.6500 - val_loss: 0.9564 - val_accuracy: 0.6667\n",
      "Epoch 48/100\n",
      "4/4 [==============================] - 0s 4ms/step - loss: 0.9723 - accuracy: 0.6500 - val_loss: 0.9488 - val_accuracy: 0.6667\n",
      "Epoch 49/100\n",
      "4/4 [==============================] - 0s 4ms/step - loss: 0.9638 - accuracy: 0.6500 - val_loss: 0.9413 - val_accuracy: 0.6667\n",
      "Epoch 50/100\n",
      "4/4 [==============================] - 0s 4ms/step - loss: 0.9555 - accuracy: 0.6500 - val_loss: 0.9326 - val_accuracy: 0.6667\n",
      "Epoch 51/100\n",
      "4/4 [==============================] - 0s 4ms/step - loss: 0.9467 - accuracy: 0.6583 - val_loss: 0.9241 - val_accuracy: 0.6667\n",
      "Epoch 52/100\n",
      "4/4 [==============================] - 0s 4ms/step - loss: 0.9375 - accuracy: 0.6583 - val_loss: 0.9146 - val_accuracy: 0.6667\n",
      "Epoch 53/100\n",
      "4/4 [==============================] - 0s 4ms/step - loss: 0.9275 - accuracy: 0.6583 - val_loss: 0.9056 - val_accuracy: 0.6667\n",
      "Epoch 54/100\n",
      "4/4 [==============================] - 0s 4ms/step - loss: 0.9174 - accuracy: 0.6667 - val_loss: 0.8963 - val_accuracy: 0.6667\n",
      "Epoch 55/100\n",
      "4/4 [==============================] - 0s 4ms/step - loss: 0.9070 - accuracy: 0.6667 - val_loss: 0.8858 - val_accuracy: 0.6667\n",
      "Epoch 56/100\n",
      "4/4 [==============================] - 0s 5ms/step - loss: 0.8964 - accuracy: 0.6667 - val_loss: 0.8744 - val_accuracy: 0.6667\n",
      "Epoch 57/100\n",
      "4/4 [==============================] - 0s 4ms/step - loss: 0.8851 - accuracy: 0.6667 - val_loss: 0.8636 - val_accuracy: 0.6667\n",
      "Epoch 58/100\n",
      "4/4 [==============================] - 0s 4ms/step - loss: 0.8738 - accuracy: 0.6667 - val_loss: 0.8524 - val_accuracy: 0.6667\n",
      "Epoch 59/100\n"
     ]
    },
    {
     "name": "stdout",
     "output_type": "stream",
     "text": [
      "4/4 [==============================] - 0s 4ms/step - loss: 0.8622 - accuracy: 0.6667 - val_loss: 0.8413 - val_accuracy: 0.6667\n",
      "Epoch 60/100\n",
      "4/4 [==============================] - 0s 4ms/step - loss: 0.8507 - accuracy: 0.6667 - val_loss: 0.8307 - val_accuracy: 0.6667\n",
      "Epoch 61/100\n",
      "4/4 [==============================] - 0s 4ms/step - loss: 0.8392 - accuracy: 0.6667 - val_loss: 0.8194 - val_accuracy: 0.6667\n",
      "Epoch 62/100\n",
      "4/4 [==============================] - 0s 4ms/step - loss: 0.8270 - accuracy: 0.6667 - val_loss: 0.8079 - val_accuracy: 0.6667\n",
      "Epoch 63/100\n",
      "4/4 [==============================] - 0s 4ms/step - loss: 0.8150 - accuracy: 0.6667 - val_loss: 0.7969 - val_accuracy: 0.6667\n",
      "Epoch 64/100\n",
      "4/4 [==============================] - 0s 4ms/step - loss: 0.8031 - accuracy: 0.6667 - val_loss: 0.7855 - val_accuracy: 0.6667\n",
      "Epoch 65/100\n",
      "4/4 [==============================] - 0s 5ms/step - loss: 0.7914 - accuracy: 0.6750 - val_loss: 0.7741 - val_accuracy: 0.6667\n",
      "Epoch 66/100\n",
      "4/4 [==============================] - 0s 4ms/step - loss: 0.7797 - accuracy: 0.7167 - val_loss: 0.7631 - val_accuracy: 0.7000\n",
      "Epoch 67/100\n",
      "4/4 [==============================] - 0s 4ms/step - loss: 0.7686 - accuracy: 0.7417 - val_loss: 0.7521 - val_accuracy: 0.7000\n",
      "Epoch 68/100\n",
      "4/4 [==============================] - 0s 4ms/step - loss: 0.7570 - accuracy: 0.7500 - val_loss: 0.7413 - val_accuracy: 0.7000\n",
      "Epoch 69/100\n",
      "4/4 [==============================] - 0s 4ms/step - loss: 0.7459 - accuracy: 0.7500 - val_loss: 0.7309 - val_accuracy: 0.7667\n",
      "Epoch 70/100\n",
      "4/4 [==============================] - 0s 4ms/step - loss: 0.7347 - accuracy: 0.7750 - val_loss: 0.7209 - val_accuracy: 0.8667\n",
      "Epoch 71/100\n",
      "4/4 [==============================] - 0s 4ms/step - loss: 0.7240 - accuracy: 0.7917 - val_loss: 0.7110 - val_accuracy: 0.8667\n",
      "Epoch 72/100\n",
      "4/4 [==============================] - 0s 4ms/step - loss: 0.7140 - accuracy: 0.7917 - val_loss: 0.7011 - val_accuracy: 0.8667\n",
      "Epoch 73/100\n",
      "4/4 [==============================] - 0s 4ms/step - loss: 0.7041 - accuracy: 0.8083 - val_loss: 0.6914 - val_accuracy: 0.8667\n",
      "Epoch 74/100\n",
      "4/4 [==============================] - 0s 4ms/step - loss: 0.6943 - accuracy: 0.8167 - val_loss: 0.6822 - val_accuracy: 0.8667\n",
      "Epoch 75/100\n",
      "4/4 [==============================] - 0s 5ms/step - loss: 0.6850 - accuracy: 0.8250 - val_loss: 0.6733 - val_accuracy: 0.9000\n",
      "Epoch 76/100\n",
      "4/4 [==============================] - 0s 4ms/step - loss: 0.6761 - accuracy: 0.8250 - val_loss: 0.6646 - val_accuracy: 0.9000\n",
      "Epoch 77/100\n",
      "4/4 [==============================] - 0s 4ms/step - loss: 0.6674 - accuracy: 0.8500 - val_loss: 0.6561 - val_accuracy: 0.9667\n",
      "Epoch 78/100\n",
      "4/4 [==============================] - 0s 4ms/step - loss: 0.6590 - accuracy: 0.8500 - val_loss: 0.6480 - val_accuracy: 0.9667\n",
      "Epoch 79/100\n",
      "4/4 [==============================] - 0s 4ms/step - loss: 0.6510 - accuracy: 0.8750 - val_loss: 0.6401 - val_accuracy: 1.0000\n",
      "Epoch 80/100\n",
      "4/4 [==============================] - 0s 4ms/step - loss: 0.6431 - accuracy: 0.8833 - val_loss: 0.6324 - val_accuracy: 1.0000\n",
      "Epoch 81/100\n",
      "4/4 [==============================] - 0s 4ms/step - loss: 0.6355 - accuracy: 0.8917 - val_loss: 0.6251 - val_accuracy: 1.0000\n",
      "Epoch 82/100\n",
      "4/4 [==============================] - 0s 4ms/step - loss: 0.6283 - accuracy: 0.8917 - val_loss: 0.6180 - val_accuracy: 1.0000\n",
      "Epoch 83/100\n",
      "4/4 [==============================] - 0s 4ms/step - loss: 0.6213 - accuracy: 0.8917 - val_loss: 0.6111 - val_accuracy: 1.0000\n",
      "Epoch 84/100\n",
      "4/4 [==============================] - 0s 5ms/step - loss: 0.6145 - accuracy: 0.9000 - val_loss: 0.6043 - val_accuracy: 1.0000\n",
      "Epoch 85/100\n",
      "4/4 [==============================] - 0s 4ms/step - loss: 0.6080 - accuracy: 0.9000 - val_loss: 0.5978 - val_accuracy: 1.0000\n",
      "Epoch 86/100\n",
      "4/4 [==============================] - 0s 4ms/step - loss: 0.6018 - accuracy: 0.9083 - val_loss: 0.5914 - val_accuracy: 1.0000\n",
      "Epoch 87/100\n",
      "4/4 [==============================] - 0s 4ms/step - loss: 0.5956 - accuracy: 0.9250 - val_loss: 0.5853 - val_accuracy: 1.0000\n",
      "Epoch 88/100\n",
      "4/4 [==============================] - 0s 4ms/step - loss: 0.5899 - accuracy: 0.9250 - val_loss: 0.5792 - val_accuracy: 1.0000\n",
      "Epoch 89/100\n",
      "4/4 [==============================] - 0s 4ms/step - loss: 0.5839 - accuracy: 0.9333 - val_loss: 0.5734 - val_accuracy: 1.0000\n",
      "Epoch 90/100\n",
      "4/4 [==============================] - 0s 4ms/step - loss: 0.5786 - accuracy: 0.9333 - val_loss: 0.5677 - val_accuracy: 1.0000\n",
      "Epoch 91/100\n",
      "4/4 [==============================] - 0s 4ms/step - loss: 0.5731 - accuracy: 0.9417 - val_loss: 0.5622 - val_accuracy: 1.0000\n",
      "Epoch 92/100\n",
      "4/4 [==============================] - 0s 4ms/step - loss: 0.5679 - accuracy: 0.9417 - val_loss: 0.5567 - val_accuracy: 1.0000\n",
      "Epoch 93/100\n",
      "4/4 [==============================] - 0s 4ms/step - loss: 0.5627 - accuracy: 0.9417 - val_loss: 0.5514 - val_accuracy: 1.0000\n",
      "Epoch 94/100\n",
      "4/4 [==============================] - 0s 5ms/step - loss: 0.5578 - accuracy: 0.9417 - val_loss: 0.5462 - val_accuracy: 1.0000\n",
      "Epoch 95/100\n",
      "4/4 [==============================] - 0s 4ms/step - loss: 0.5530 - accuracy: 0.9417 - val_loss: 0.5410 - val_accuracy: 1.0000\n",
      "Epoch 96/100\n",
      "4/4 [==============================] - 0s 4ms/step - loss: 0.5485 - accuracy: 0.9417 - val_loss: 0.5359 - val_accuracy: 1.0000\n",
      "Epoch 97/100\n",
      "4/4 [==============================] - 0s 4ms/step - loss: 0.5436 - accuracy: 0.9417 - val_loss: 0.5310 - val_accuracy: 1.0000\n",
      "Epoch 98/100\n",
      "4/4 [==============================] - 0s 4ms/step - loss: 0.5391 - accuracy: 0.9417 - val_loss: 0.5261 - val_accuracy: 1.0000\n",
      "Epoch 99/100\n",
      "4/4 [==============================] - 0s 4ms/step - loss: 0.5348 - accuracy: 0.9583 - val_loss: 0.5213 - val_accuracy: 1.0000\n",
      "Epoch 100/100\n",
      "4/4 [==============================] - 0s 4ms/step - loss: 0.5309 - accuracy: 0.9583 - val_loss: 0.5162 - val_accuracy: 1.0000\n"
     ]
    },
    {
     "data": {
      "text/plain": [
       "<tensorflow.python.keras.callbacks.History at 0x7fb425f00580>"
      ]
     },
     "execution_count": 7,
     "metadata": {},
     "output_type": "execute_result"
    }
   ],
   "source": [
    "model.fit(X_train, Y_train,\n",
    "          validation_data=(X_val, Y_val),\n",
    "          epochs=100)"
   ]
  },
  {
   "cell_type": "markdown",
   "metadata": {},
   "source": [
    "Plot the training history."
   ]
  },
  {
   "cell_type": "code",
   "execution_count": 8,
   "metadata": {},
   "outputs": [
    {
     "data": {
      "image/png": "[encoded data removed]",
      "text/plain": [
       "<Figure size 576x216 with 2 Axes>"
      ]
     },
     "metadata": {
      "needs_background": "light"
     },
     "output_type": "display_data"
    }
   ],
   "source": [
    "hist = model.history.history\n",
    "fig, ax = plt.subplots(1,2,figsize=(8,3))\n",
    "ax[0].plot(hist['loss'], c='r', ls='--', label='train loss')\n",
    "ax[0].plot(hist['val_loss'], c='orange', label='val loss')\n",
    "ax[1].plot(hist['accuracy'], c='b', ls='--', label='train accuracy')\n",
    "ax[1].plot(hist['val_accuracy'], c='g', label='val accuracy')\n",
    "\n",
    "for axis in ax:\n",
    "    axis.set_xlabel('epoch')\n",
    "    axis.legend();"
   ]
  },
  {
   "cell_type": "markdown",
   "metadata": {},
   "source": [
    "Save the weights (this is where the weights from the previous exercise came from!)"
   ]
  },
  {
   "cell_type": "code",
   "execution_count": 9,
   "metadata": {},
   "outputs": [],
   "source": [
    "weights = np.array(model.get_weights())\n",
    "np.save('data/weights.npy', weights)"
   ]
  },
  {
   "cell_type": "markdown",
   "metadata": {},
   "source": [
    "Let's see how we did by checking the validation accuracy. Notice that we have to undo the one-hot encodings first using `np.argmax`"
   ]
  },
  {
   "cell_type": "code",
   "execution_count": 11,
   "metadata": {},
   "outputs": [
    {
     "name": "stdout",
     "output_type": "stream",
     "text": [
      "1.0\n"
     ]
    }
   ],
   "source": [
    "### edTest(test_val_acc) ###\n",
    "def acc_score(model, X, Y):\n",
    "    y_hat = np.argmax(model.predict(X), axis=-1)\n",
    "    y = np.argmax(Y, axis=-1) # de-one-hot encode Y for comparison\n",
    "    acc = sum(y == y_hat)/len(y)\n",
    "    return acc\n",
    "\n",
    "our_val_acc = acc_score(model, X_val, Y_val)"
   ]
  },
  {
   "cell_type": "markdown",
   "metadata": {},
   "source": [
    "Once we understand how the accuracy metric is implemented for multi-class predictions we can use sklearn's more robust built in function. Here we sanity check out implementation by comparing its results to sklearn."
   ]
  },
  {
   "cell_type": "code",
   "execution_count": 12,
   "metadata": {},
   "outputs": [],
   "source": [
    "from sklearn.metrics import accuracy_score\n",
    "\n",
    "y_pred = np.argmax(model.predict(X_val), axis=-1)\n",
    "y_val = np.argmax(Y_val, axis=-1) # de-one-hot encode Y_val for comparison\n",
    "sklearn_val_acc = accuracy_score(y_val, y_pred)"
   ]
  },
  {
   "cell_type": "code",
   "execution_count": 13,
   "metadata": {
    "scrolled": true
   },
   "outputs": [
    {
     "name": "stdout",
     "output_type": "stream",
     "text": [
      "our val acc: 100%\n",
      "sklearn val acc: 100%\n"
     ]
    }
   ],
   "source": [
    "print(f'our val acc: {our_val_acc:.0%}')\n",
    "print(f'sklearn val acc: {sklearn_val_acc:.0%}')"
   ]
  },
  {
   "cell_type": "code",
   "execution_count": null,
   "metadata": {},
   "outputs": [],
   "source": []
  }
 ],
 "metadata": {
  "kernelspec": {
   "display_name": "Python 3",
   "language": "python",
   "name": "python3"
  },
  "language_info": {
   "codemirror_mode": {
    "name": "ipython",
    "version": 3
   },
   "file_extension": ".py",
   "mimetype": "text/x-python",
   "name": "python",
   "nbconvert_exporter": "python",
   "pygments_lexer": "ipython3",
   "version": "3.8.3"
  }
 },
 "nbformat": 4,
 "nbformat_minor": 4
}
