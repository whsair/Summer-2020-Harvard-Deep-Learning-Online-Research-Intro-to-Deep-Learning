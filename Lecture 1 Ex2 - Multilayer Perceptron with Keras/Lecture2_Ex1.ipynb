{
 "cells": [
  {
   "cell_type": "code",
   "execution_count": 1,
   "metadata": {},
   "outputs": [],
   "source": [
    "import numpy as np\n",
    "import matplotlib.pyplot as plt\n",
    "import tensorflow as tf\n",
    "from sklearn.datasets import load_iris\n",
    "from tensorflow.keras.utils import to_categorical\n",
    "%matplotlib inline"
   ]
  },
  {
   "cell_type": "markdown",
   "metadata": {},
   "source": [
    "Load the iris data (150 observations, 4 predictors, 3 classes)"
   ]
  },
  {
   "cell_type": "code",
   "execution_count": 2,
   "metadata": {},
   "outputs": [
    {
     "name": "stdout",
     "output_type": "stream",
     "text": [
      "X shape: (150, 4)\n",
      "y shape: (150,)\n"
     ]
    }
   ],
   "source": [
    "iris_data = load_iris()\n",
    "X = iris_data.data\n",
    "y = iris_data.target\n",
    "print(f'X shape: {X.shape}')\n",
    "print(f'y shape: {y.shape}')\n"
   ]
  },
  {
   "cell_type": "code",
   "execution_count": 3,
   "metadata": {},
   "outputs": [
    {
     "name": "stdout",
     "output_type": "stream",
     "text": [
      "Y shape: (150, 3)\n"
     ]
    }
   ],
   "source": [
    "Y = to_categorical(y) # one-hot encode target labels\n",
    "print(f'Y shape: {Y.shape}')\n"
   ]
  },
  {
   "cell_type": "markdown",
   "metadata": {},
   "source": [
    "Load and inspect the pre-trained weights and biases. Compare their shapes to the NN diagram."
   ]
  },
  {
   "cell_type": "code",
   "execution_count": 4,
   "metadata": {},
   "outputs": [],
   "source": [
    "weights = np.load('data/weights.npy', allow_pickle=True)\n",
    "\n",
    "w1 = weights[0] # weights for hidden (1st) layer\n",
    "b1 = weights[1] # biases for hidden (1st) layer\n",
    "w2 = weights[2] # weights for output (2nd) layer\n",
    "b2 = weights[3] #biases for output (2nd) layer"
   ]
  },
  {
   "cell_type": "code",
   "execution_count": 5,
   "metadata": {},
   "outputs": [
    {
     "name": "stdout",
     "output_type": "stream",
     "text": [
      "w1 - shape: (4, 3)\n",
      "[[-0.42714605 -0.72814226  0.37730372]\n",
      " [ 0.39002347 -0.73936987  0.7850246 ]\n",
      " [ 0.12336338 -0.7267647  -0.48210236]\n",
      " [ 0.20957732 -0.7505736  -1.3789996 ]]\n",
      "\n",
      "b1 - shape: (3,)\n",
      "[0.         0.         0.31270522]\n",
      "\n",
      "w2 - shape: (3, 3)\n",
      "[[ 0.7043929   0.13273811 -0.845736  ]\n",
      " [-0.8318007  -0.6977086   0.75894   ]\n",
      " [ 1.1978723   0.14868832 -0.473792  ]]\n",
      "\n",
      "b2 - shape: (3,)\n",
      "[-1.2774311   0.45491916  0.73040146]\n",
      "\n"
     ]
    }
   ],
   "source": [
    "for arr, name in zip([w1,b1,w2,b2], ['w1','b1','w2','b2']):\n",
    "    print(f'{name} - shape: {arr.shape}')\n",
    "    print(arr)\n",
    "    print()"
   ]
  },
  {
   "cell_type": "markdown",
   "metadata": {},
   "source": [
    "For the first affine transformation we need to multiple the augmented input by the first weight matrix (i.e., layer).\n",
    "\n",
    "$$\n",
    "\\begin{bmatrix}\n",
    "1 & X_{11} & X_{12} & X_{13} & X_{14}\\\\\n",
    "1 & X_{21} & X_{22} & X_{23} & X_{24}\\\\\n",
    "\\vdots & \\vdots & \\vdots & \\vdots & \\vdots \\\\\n",
    "1 & X_{n1} & X_{n2} & X_{n3} & X_{n4}\\\\\n",
    "\\end{bmatrix}\n",
    "\\begin{bmatrix}\n",
    "b_{1}^1 & b_{2}^1 & b_{3}^1\\\\\n",
    "W_{11}^1 & W_{12}^1 & W_{13}^1\\\\\n",
    "W_{21}^1 & W_{22}^1 & W_{23}^1\\\\\n",
    "W_{31}^1 & W_{32}^1 & W_{33}^1\\\\\n",
    "W_{41}^1 & W_{42}^1 & W_{43}^1\\\\\n",
    "\\end{bmatrix}\n",
    "=\n",
    "\\begin{bmatrix}\n",
    "z_{11}^1 & z_{12}^1 & z_{13}^1\\\\\n",
    "z_{21}^1 & z_{22}^1 & z_{23}^1\\\\\n",
    "\\vdots & \\vdots & \\vdots \\\\\n",
    "z_{n1}^1 & z_{n2}^1 & z_{n3}^1\\\\\n",
    "\\end{bmatrix}\n",
    "= \\textbf{Z}^1\n",
    "$$ \n",
    "<span style='color:gray'>About the notation: superscript refers to the layer and subscript refers to the index in the particular matrix. So $W_{23}^1$ is the weight in the 1st layer connecting the 2nd input to 3rd hidden node. Compare this matrix representation to the slide image. Also note the bias terms and ones that have been added to 'augment' certain matrices. You could consider $b_1^1$ to be $W_{01}^1$.</span><div></div>\n",
    "<span style='color:blue'>1. Augment X with a column of ones to create `X_aug`</span><div></div><span style='color:blue'>2. Create the first layer weight matrix `W1` by horizontally stacking the bias vector `b1`on top of `w1` (consult `add_ones_col` for ideas. Don't forget your `Tab` and `Shift+Tab` tricks!)</span><div></div><span style='color:blue'>3. Do the matrix multiplication to find `Z1`</span>\n",
    "\n"
   ]
  },
  {
   "cell_type": "code",
   "execution_count": 6,
   "metadata": {},
   "outputs": [],
   "source": [
    "def add_ones_col(X):\n",
    "    '''Augment matrix with a column of ones'''\n",
    "    X_aug = np.hstack((np.ones((X.shape[0],1)), X))\n",
    "    return X_aug"
   ]
  },
  {
   "cell_type": "code",
   "execution_count": 7,
   "metadata": {},
   "outputs": [],
   "source": [
    "# your code here\n",
    "X_aug = add_ones_col(X)\n",
    "W1 = np.vstack((weights[1], w1))\n",
    "Z1 = np.matmul(X_aug, W1)"
   ]
  },
  {
   "cell_type": "markdown",
   "metadata": {},
   "source": [
    "Next, we use our non-linarity\n",
    "$$\n",
    "\\textit{a}_{\\text{relu}}(\\textbf{Z}^1)\n",
    "=\n",
    "\\begin{bmatrix}\n",
    "h_{11} & h_{12} & h_{13}\\\\\n",
    "h_{21} & h_{22} & h_{23}\\\\\n",
    "\\vdots & \\vdots & \\vdots \\\\\n",
    "h_{n1} & h_{n2} & h_{n3}\\\\\n",
    "\\end{bmatrix}\n",
    "= \\textbf{H}\n",
    "$$\n",
    "\n",
    "\n",
    "\n",
    "<span style='color:blue'>1. Define the relu activation</span><div></div>\n",
    "<span style='color:blue'>2. use `plot_activation_func` to confirm implementation</span><div></div>\n",
    "<span style='color:blue'>3. Use relu on `Z1` to create `H`</span>"
   ]
  },
  {
   "cell_type": "code",
   "execution_count": 8,
   "metadata": {},
   "outputs": [],
   "source": [
    "def relu(z: np.array) -> np.array:\n",
    "    # your code here\n",
    "    h = np.maximum(0,z)\n",
    "    return h"
   ]
  },
  {
   "cell_type": "code",
   "execution_count": 9,
   "metadata": {
    "scrolled": false
   },
   "outputs": [
    {
     "data": {
      "image/png": "[encoded data removed]",
      "text/plain": [
       "<Figure size 432x288 with 1 Axes>"
      ]
     },
     "metadata": {
      "needs_background": "light"
     },
     "output_type": "display_data"
    }
   ],
   "source": [
    "def plot_activation_func(f, name):\n",
    "    lin_x = np.linspace(-10,10,200)\n",
    "    h = f(lin_x)\n",
    "    plt.plot(lin_x, h)\n",
    "    plt.xlabel('x')\n",
    "    plt.ylabel('y')\n",
    "    plt.title(f'{name} Activation Function')\n",
    "\n",
    "plot_activation_func(relu, name='RELU')"
   ]
  },
  {
   "cell_type": "code",
   "execution_count": 10,
   "metadata": {},
   "outputs": [],
   "source": [
    "# your code here\n",
    "H = relu(Z1)"
   ]
  },
  {
   "cell_type": "markdown",
   "metadata": {},
   "source": [
    "The next step is very similar to the first\n",
    "\n",
    "$$\n",
    "\\begin{bmatrix}\n",
    "1 & h_{11} & h_{12} & h_{13}\\\\\n",
    "1 & h_{21} & h_{22} & h_{23}\\\\\n",
    "\\vdots & \\vdots & \\vdots & \\vdots \\\\\n",
    "1 & h_{n1} & h_{n2} & h_{n3}\\\\\n",
    "\\end{bmatrix}\n",
    "\\begin{bmatrix}\n",
    "b_{1}^2 & b_{2}^2 & b_{3}^2\\\\\n",
    "W_{11}^2 & W_{12}^2 & W_{13}^2\\\\\n",
    "W_{21}^2 & W_{22}^2 & W_{23}^2\\\\\n",
    "W_{31}^2 & W_{32}^2 & W_{33}^2\\\\\n",
    "\\end{bmatrix}\n",
    "=\n",
    "\\begin{bmatrix}\n",
    "z_{11}^2 & z_{12}^2 & z_{13}^2\\\\\n",
    "z_{21}^2 & z_{22}^2 & z_{23}^2\\\\\n",
    "\\vdots & \\vdots & \\vdots \\\\\n",
    "z_{n1}^2 & z_{n2}^2 & z_{n3}^2\\\\\n",
    "\\end{bmatrix}\n",
    "= \\textbf{Z}^2\n",
    "$$\n",
    "\n",
    "\n",
    "<span style='color:blue'>1. Augment `H` with ones to create `H_aug`</span><div></div>\n",
    "<span style='color:blue'>2. Combine `w2` and `b2` to create the output weight matric `W2`</span><div></div>\n",
    "<span style='color:blue'>3. Perform the matrix multiplication to produce `Z2`</span><div></div>"
   ]
  },
  {
   "cell_type": "code",
   "execution_count": 11,
   "metadata": {},
   "outputs": [],
   "source": [
    "# your code here\n",
    "H_aug = add_ones_col(H)\n",
    "W2 = np.vstack((b2,w2))\n",
    "Z2 = np.matmul(H_aug, W2)\n"
   ]
  },
  {
   "cell_type": "markdown",
   "metadata": {},
   "source": [
    "Finally we use the softmax activation on `Z2`. Now for each observation we have an output vector of length 3 which can be interpreted as a probability (they sum to 1).\n",
    "$$\n",
    "\\textit{a}_{\\text{softmax}}(\\textbf{Z}^2)\n",
    "=\n",
    "\\begin{bmatrix}\n",
    "\\hat{y}_{11} & \\hat{y}_{12} & \\hat{y}_{13}\\\\\n",
    "\\hat{y}_{21} & \\hat{y}_{22} & \\hat{y}_{23}\\\\\n",
    "\\vdots & \\vdots & \\vdots \\\\\n",
    "\\hat{y}_{n1} & \\hat{y}_{n2} & \\hat{y}_{n3}\\\\\n",
    "\\end{bmatrix}\n",
    "= \\hat{\\textbf{Y}}\n",
    "$$\n",
    "\n",
    "<span style='color:blue'>1. Define softmax</span><div></div>\n",
    "<span style='color:blue'>2. Use `softmax` on `Z2` to create `Y_hat`</span><div></div>"
   ]
  },
  {
   "cell_type": "code",
   "execution_count": 12,
   "metadata": {},
   "outputs": [],
   "source": [
    "def softmax(z: np.array) -> np.array:\n",
    "    '''\n",
    "    Input: z - 2D numpy array of logits \n",
    "           rows are observations, classes are columns \n",
    "    Returns: y_hat - 2D numpy array of probabilities\n",
    "             rows are observations, classes are columns \n",
    "    '''\n",
    "    # hint: be careful which axis you sum over, and set keepdims=True\n",
    "    # your code here\n",
    "    \n",
    "    y_hat = np.exp(z)/np.sum(np.exp(z),axis=1,keepdims=True)\n",
    "    return y_hat"
   ]
  },
  {
   "cell_type": "code",
   "execution_count": 13,
   "metadata": {},
   "outputs": [],
   "source": [
    "Y_hat = softmax(Z2)\n"
   ]
  },
  {
   "cell_type": "markdown",
   "metadata": {},
   "source": [
    "<span style='color:blue'>Now let's see how accuract the model's predictions are! Use `np.argmax` to collapse the columns of `Y_hat` to create `y_hat`, a vector of class labels like the original `y` before one-hot encoding.</span><div></div>"
   ]
  },
  {
   "cell_type": "code",
   "execution_count": 14,
   "metadata": {},
   "outputs": [
    {
     "name": "stdout",
     "output_type": "stream",
     "text": [
      "accuracy: 96.67%\n"
     ]
    }
   ],
   "source": [
    "### edTest(test_acc) ###\n",
    "# your code here\n",
    "y_hat = np.argmax(Y_hat, axis=1)\n",
    "acc = sum(y == y_hat)/len(y)\n",
    "print(f'accuracy: {acc:.2%}')"
   ]
  },
  {
   "cell_type": "code",
   "execution_count": null,
   "metadata": {},
   "outputs": [],
   "source": []
  }
 ],
 "metadata": {
  "kernelspec": {
   "display_name": "Python 3",
   "language": "python",
   "name": "python3"
  },
  "language_info": {
   "codemirror_mode": {
    "name": "ipython",
    "version": 3
   },
   "file_extension": ".py",
   "mimetype": "text/x-python",
   "name": "python",
   "nbconvert_exporter": "python",
   "pygments_lexer": "ipython3",
   "version": "3.8.3"
  }
 },
 "nbformat": 4,
 "nbformat_minor": 4
}
