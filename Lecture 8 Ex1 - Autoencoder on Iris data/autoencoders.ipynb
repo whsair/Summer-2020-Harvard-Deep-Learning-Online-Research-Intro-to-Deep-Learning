{
 "cells": [
  {
   "cell_type": "code",
   "execution_count": null,
   "metadata": {},
   "outputs": [],
   "source": [
    "import pandas as pd\n",
    "import numpy as np\n",
    "from sklearn.datasets import load_iris\n",
    "from sklearn.preprocessing import MinMaxScaler\n",
    "from sklearn.decomposition import PCA\n",
    "from matplotlib import pyplot as plt\n",
    "%matplotlib inline\n",
    "\n",
    "import tensorflow as tf"
   ]
  },
  {
   "cell_type": "code",
   "execution_count": null,
   "metadata": {},
   "outputs": [],
   "source": [
    "#Load Iris Dataset \n",
    "iris = load_iris()\n",
    "X = iris.data\n",
    "y = iris.target\n",
    "target_names = iris.target_names\n",
    "print(X.shape, y.shape)  #4 features\n",
    "#Scale the data\n",
    "scaler = MinMaxScaler()\n",
    "scaler.fit(X)\n",
    "X_scaled = scaler.transform(X)"
   ]
  },
  {
   "cell_type": "code",
   "execution_count": null,
   "metadata": {},
   "outputs": [],
   "source": [
    "pd.DataFrame(iris.data,columns = iris.feature_names).head()"
   ]
  },
  {
   "cell_type": "code",
   "execution_count": null,
   "metadata": {},
   "outputs": [],
   "source": [
    "def plot3clusters(X, title, vtitle):\n",
    "  plt.figure()\n",
    "  colors = ['navy', 'turquoise', 'darkorange']\n",
    "  lw = 2\n",
    "\n",
    "  for color, i, target_name in zip(colors, [0, 1, 2], target_names):\n",
    "      plt.scatter(X[y == i, 0], X[y == i, 1], color=color, alpha=1., lw=lw,\n",
    "                  label=target_name)\n",
    "  plt.legend(loc='best', shadow=False, scatterpoints=1)\n",
    "  plt.title(title)  \n",
    "  plt.xlabel(vtitle + \"1\")\n",
    "  plt.ylabel(vtitle + \"2\")\n",
    "  plt.show()"
   ]
  },
  {
   "cell_type": "code",
   "execution_count": null,
   "metadata": {},
   "outputs": [],
   "source": [
    "### edTest(test_check_ae) ###\n",
    "#create an AE and fit it with our data using 2 neurons in the dense layer using keras' functional API\n",
    "input_dim = X_scaled.shape[1]\n",
    "encoding_dim = 2  \n",
    "\n",
    "input_features = tf.keras.Input(shape=(input_dim,))\n",
    "encoded = tf.keras.layers.Dense(encoding_dim, activation=None)(input_features)\n",
    "decoded = tf.keras.layers.Dense(input_dim, activation=None)(encoded)\n",
    "\n",
    "#create autoencoder model which has input as input_features and outputs decoded\n",
    "autoencoder = tf.keras.Model(inputs = input_features, outputs=decoded)\n",
    "\n",
    "autoencoder.compile(optimizer='adam', loss='mse')\n",
    "print(autoencoder.summary())\n",
    "\n",
    "#Notice the y in .fit() below - This takes a minute to run (output suppressed)\n",
    "history = autoencoder.fit(X_scaled, X_scaled,\n",
    "                epochs=1000,\n",
    "                batch_size=16,\n",
    "                shuffle=True,\n",
    "                validation_split=0.1,\n",
    "                verbose = 0)\n",
    "\n",
    "#plot our loss \n",
    "plt.plot(history.history['loss'])\n",
    "plt.plot(history.history['val_loss'])\n",
    "plt.title('model train vs validation loss')\n",
    "plt.ylabel('loss')\n",
    "plt.xlabel('epoch')\n",
    "plt.legend(['train', 'validation'], loc='upper right')\n",
    "plt.show()\n",
    "\n"
   ]
  },
  {
   "cell_type": "code",
   "execution_count": null,
   "metadata": {},
   "outputs": [],
   "source": [
    "preds = autoencoder.predict(X_scaled)\n",
    "print(preds.shape)\n",
    "plot3clusters(preds[:,:2], 'AutoEncoder - Decoded output 2 features', 'AE') \n"
   ]
  },
  {
   "cell_type": "code",
   "execution_count": null,
   "metadata": {},
   "outputs": [],
   "source": [
    "# use our encoded layer to encode the training input\n",
    "encoder = tf.keras.Model(input_features, encoded)\n",
    "encoded_data = encoder.predict(X_scaled)\n",
    "print(encoded_data.shape)\n",
    "plot3clusters(encoded_data, 'Encoded data', 'AE')  "
   ]
  },
  {
   "cell_type": "code",
   "execution_count": null,
   "metadata": {},
   "outputs": [],
   "source": []
  }
 ],
 "metadata": {
  "kernelspec": {
   "display_name": "Python 3",
   "language": "python",
   "name": "python3"
  },
  "language_info": {
   "codemirror_mode": {
    "name": "ipython",
    "version": 3
   },
   "file_extension": ".py",
   "mimetype": "text/x-python",
   "name": "python",
   "nbconvert_exporter": "python",
   "pygments_lexer": "ipython3",
   "version": "3.8.3"
  }
 },
 "nbformat": 4,
 "nbformat_minor": 2
}
